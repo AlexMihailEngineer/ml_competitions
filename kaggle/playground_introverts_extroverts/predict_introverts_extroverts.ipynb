{
 "cells": [
  {
   "cell_type": "code",
   "execution_count": null,
   "id": "ff477644-039f-44af-9c49-ba5654ca703e",
   "metadata": {},
   "outputs": [],
   "source": [
    "#Kaggle Predict the Introverts from the Extroverts\n",
    "#Playground Series - Season 5, Episode 7"
   ]
  }
 ],
 "metadata": {
  "kernelspec": {
   "display_name": "Python 3 (ipykernel)",
   "language": "python",
   "name": "python3"
  },
  "language_info": {
   "codemirror_mode": {
    "name": "ipython",
    "version": 3
   },
   "file_extension": ".py",
   "mimetype": "text/x-python",
   "name": "python",
   "nbconvert_exporter": "python",
   "pygments_lexer": "ipython3",
   "version": "3.11.13"
  }
 },
 "nbformat": 4,
 "nbformat_minor": 5
}
